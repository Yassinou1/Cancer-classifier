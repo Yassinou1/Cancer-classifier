{
 "cells": [
  {
   "metadata": {},
   "cell_type": "markdown",
   "source": "# Cancer classifier using a convolutional neuronal network",
   "id": "bbb1f432ca80263a"
  },
  {
   "metadata": {
    "collapsed": true,
    "ExecuteTime": {
     "end_time": "2025-09-04T16:51:24.490Z",
     "start_time": "2025-09-04T16:51:24.484708Z"
    }
   },
   "cell_type": "code",
   "source": [
    "#import libraries\n",
    "from matplotlib import pyplot\n",
    "from keras.models import Sequential\n",
    "from keras.layers import Input\n",
    "from keras.layers import Conv2D\n",
    "from keras.layers import MaxPooling2D\n",
    "from keras.layers import Dense\n",
    "from keras.layers import Flatten\n",
    "from keras import layers, models\n",
    "from tensorflow.keras.preprocessing.image import ImageDataGenerator\n",
    "from keras.optimizers import SGD"
   ],
   "id": "5cb07e454139947c",
   "outputs": [],
   "execution_count": 20
  },
  {
   "metadata": {},
   "cell_type": "markdown",
   "source": "### Define parameters",
   "id": "79e4d74b4004cecd"
  },
  {
   "metadata": {
    "ExecuteTime": {
     "end_time": "2025-09-04T16:51:24.542900Z",
     "start_time": "2025-09-04T16:51:24.538300Z"
    }
   },
   "cell_type": "code",
   "source": [
    "#The given pictures are of 150 px * 150px | 8 classes are given\n",
    "img_size = (150, 150)\n",
    "batch_size = 64\n",
    "image_path = \"Kather_texture_2016_image_tiles_5000\""
   ],
   "id": "cc9ebe4e5ac6e9c3",
   "outputs": [],
   "execution_count": 21
  },
  {
   "metadata": {},
   "cell_type": "markdown",
   "source": "### Generate images rescaled",
   "id": "1bd5398f7c8314af"
  },
  {
   "metadata": {
    "ExecuteTime": {
     "end_time": "2025-09-04T16:51:25.075800Z",
     "start_time": "2025-09-04T16:51:24.611672Z"
    }
   },
   "cell_type": "code",
   "source": [
    "datagen = ImageDataGenerator(\n",
    "    rescale=1./255,\n",
    "    validation_split=0.2,\n",
    "    rotation_range=20,\n",
    "    width_shift_range=0.1,\n",
    "    height_shift_range=0.1,\n",
    "    horizontal_flip=True\n",
    ")\n",
    "\n",
    "train_gen = datagen.flow_from_directory(\n",
    "    image_path,\n",
    "    target_size=img_size,\n",
    "    batch_size=batch_size,\n",
    "    class_mode=\"categorical\",\n",
    "    subset=\"training\"\n",
    ")\n",
    "\n",
    "val_gen = datagen.flow_from_directory(\n",
    "    image_path,\n",
    "    target_size=img_size,\n",
    "    batch_size=batch_size,\n",
    "    class_mode=\"categorical\",\n",
    "    subset=\"validation\"\n",
    ")"
   ],
   "id": "878f9b06fb6780f0",
   "outputs": [
    {
     "name": "stdout",
     "output_type": "stream",
     "text": [
      "Found 4000 images belonging to 8 classes.\n",
      "Found 1000 images belonging to 8 classes.\n"
     ]
    }
   ],
   "execution_count": 22
  },
  {
   "metadata": {},
   "cell_type": "markdown",
   "source": "### Define the CNN model\n",
   "id": "a30288c96468618a"
  },
  {
   "metadata": {
    "ExecuteTime": {
     "end_time": "2025-09-04T16:51:25.230511Z",
     "start_time": "2025-09-04T16:51:25.085966Z"
    }
   },
   "cell_type": "code",
   "source": [
    "model = models.Sequential([\n",
    "    layers.Conv2D(32, (3,3), activation=\"relu\", input_shape=(150,150,3),padding=\"same\"),\n",
    "    layers.BatchNormalization(),\n",
    "    layers.MaxPooling2D((2,2)),\n",
    "\n",
    "    layers.Conv2D(64, (3,3), activation=\"relu\", padding=\"same\"),\n",
    "    layers.BatchNormalization(),\n",
    "    layers.BatchNormalization(),\n",
    "    layers.MaxPooling2D((2,2)),\n",
    "\n",
    "    layers.Conv2D(128, (3,3), activation=\"relu\", padding=\"same\"),\n",
    "    layers.BatchNormalization(),\n",
    "    layers.MaxPooling2D((2,2)),\n",
    "\n",
    "    layers.Flatten(),\n",
    "    layers.Dropout(0.5),\n",
    "    layers.Dense(128, activation=\"relu\"),\n",
    "    layers.Dense(train_gen.num_classes, activation=\"softmax\")\n",
    "])\n",
    "\n",
    "opt = SGD(learning_rate=0.001, momentum=0.9)\n",
    "\n",
    "model.compile(optimizer=opt,\n",
    "              loss=\"categorical_crossentropy\",\n",
    "              metrics=[\"accuracy\"])"
   ],
   "id": "4ee8964bd830a456",
   "outputs": [],
   "execution_count": 23
  },
  {
   "metadata": {},
   "cell_type": "markdown",
   "source": "### Train the model",
   "id": "7273698e1a8ca7d9"
  },
  {
   "metadata": {
    "jupyter": {
     "is_executing": true
    },
    "ExecuteTime": {
     "start_time": "2025-09-04T16:51:25.242080Z"
    }
   },
   "cell_type": "code",
   "source": [
    "history = model.fit(\n",
    "    train_gen,\n",
    "    steps_per_epoch=len(train_gen),\n",
    "    validation_data=val_gen,\n",
    "    validation_steps=len(val_gen),\n",
    "    epochs=15\n",
    ")"
   ],
   "id": "1d006b9c66e6d0a1",
   "outputs": [
    {
     "name": "stdout",
     "output_type": "stream",
     "text": [
      "Epoch 1/15\n"
     ]
    }
   ],
   "execution_count": null
  },
  {
   "metadata": {},
   "cell_type": "markdown",
   "source": "### Evaluation",
   "id": "adcfe459ee3847a6"
  },
  {
   "metadata": {},
   "cell_type": "code",
   "outputs": [],
   "execution_count": null,
   "source": [
    "test_loss, test_acc = model.evaluate(val_gen)\n",
    "print(f\"Validation Accuracy: {test_acc:.2f}\")"
   ],
   "id": "c75afce5f8b005f8"
  },
  {
   "metadata": {},
   "cell_type": "code",
   "outputs": [],
   "execution_count": null,
   "source": [
    "pyplot.figure(figsize=(12, 4))\n",
    "\n",
    "# plot loss\n",
    "pyplot.subplot(2, 1, 1)\n",
    "pyplot.title('Cross Entropy Loss')\n",
    "pyplot.plot(history.history['loss'], color='blue', label='train')\n",
    "pyplot.plot(history.history['val_loss'], color='orange', label='validation')\n",
    "pyplot.ylim(0.0,1.0)\n",
    "pyplot.legend()\n",
    "\n",
    "# plot accuracy\n",
    "pyplot.subplot(2,1,2)\n",
    "pyplot.title('Classification Accuracy')\n",
    "pyplot.plot(history.history['accuracy'], color='blue', label='train')\n",
    "pyplot.plot(history.history['val_accuracy'], color='orange', label='validation')\n",
    "pyplot.legend()\n",
    "pyplot.ylim(0.0,1.0)\n",
    "\n",
    "pyplot.tight_layout()\n",
    "pyplot.show()"
   ],
   "id": "84748d2238bec034"
  }
 ],
 "metadata": {
  "kernelspec": {
   "display_name": "Python 3",
   "language": "python",
   "name": "python3"
  },
  "language_info": {
   "codemirror_mode": {
    "name": "ipython",
    "version": 2
   },
   "file_extension": ".py",
   "mimetype": "text/x-python",
   "name": "python",
   "nbconvert_exporter": "python",
   "pygments_lexer": "ipython2",
   "version": "2.7.6"
  }
 },
 "nbformat": 4,
 "nbformat_minor": 5
}
